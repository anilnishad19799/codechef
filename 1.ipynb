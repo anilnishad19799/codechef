{
 "cells": [
  {
   "cell_type": "code",
   "execution_count": 6,
   "metadata": {},
   "outputs": [
    {
     "name": "stdout",
     "output_type": "stream",
     "text": [
      "1000\n",
      "1000\n"
     ]
    }
   ],
   "source": [
    "a = [1,2,3,4, 1000]\n",
    "print(a[-1])\n",
    "print(a[len(a)-1])"
   ]
  },
  {
   "cell_type": "code",
   "execution_count": 14,
   "metadata": {},
   "outputs": [
    {
     "data": {
      "text/plain": [
       "<re.Match object; span=(10, 11), match='1'>"
      ]
     },
     "execution_count": 14,
     "metadata": {},
     "output_type": "execute_result"
    }
   ],
   "source": [
    "import re\n",
    "S = '#cookOff#P1'\n",
    "small = re.search('[a-z]' , S)\n",
    "\n",
    "start_big = re.search('^[A-Z]' , S)\n",
    "end_big = re.search('[A-Z]$' , S)\n",
    "\n",
    "big = re.search('[A-Z]' , S)\n",
    "\n",
    "start_number = re.search( '^[0-9]', S)\n",
    "end_number = re.search( '[0-9]$', S)\n",
    "\n",
    "num = re.search( '[0-9]', S)\n",
    "\n",
    "start_pun = re.search(\"['@', '#', '%', '&', '?']\", S)\n",
    "end_pun = re.search(\"['@', '#', '%', '&', '?']$\", S)\n",
    "\n",
    "punc = re.search(\"['@', '#', '%', '&', '?']\", S)\n",
    "start_number"
   ]
  },
  {
   "cell_type": "code",
   "execution_count": 17,
   "metadata": {},
   "outputs": [
    {
     "data": {
      "text/plain": [
       "<re.Match object; span=(3, 4), match='3'>"
      ]
     },
     "execution_count": 17,
     "metadata": {},
     "output_type": "execute_result"
    }
   ],
   "source": [
    "S = \"2sad3adfs\"\n",
    "num = re.search( '[0-9]', S[1:-1])\n",
    "num"
   ]
  }
 ],
 "metadata": {
  "kernelspec": {
   "display_name": "Python 3",
   "language": "python",
   "name": "python3"
  },
  "language_info": {
   "codemirror_mode": {
    "name": "ipython",
    "version": 3
   },
   "file_extension": ".py",
   "mimetype": "text/x-python",
   "name": "python",
   "nbconvert_exporter": "python",
   "pygments_lexer": "ipython3",
   "version": "3.8.0"
  },
  "orig_nbformat": 4
 },
 "nbformat": 4,
 "nbformat_minor": 2
}
